{
 "cells": [
  {
   "cell_type": "code",
   "execution_count": 1,
   "metadata": {},
   "outputs": [],
   "source": [
    "%matplotlib inline\n",
    "\n",
    "import matplotlib.pyplot as plt\n",
    "import pandas as pd\n",
    "Chem_filepath = \"../DataFrames/Chem_mean_by_Year.csv\"\n",
    "Mort_filepath = \"../DataFrames/US_PM25_Mort_data.csv\"\n",
    "\n",
    "Chem_by_Year = pd.read_csv(Chem_filepath)\n",
    "US_PM25_Mort_data = pd.read_csv(Mort_filepath)"
   ]
  },
  {
   "cell_type": "code",
   "execution_count": 2,
   "metadata": {},
   "outputs": [
    {
     "data": {
      "text/html": [
       "<div>\n",
       "<style scoped>\n",
       "    .dataframe tbody tr th:only-of-type {\n",
       "        vertical-align: middle;\n",
       "    }\n",
       "\n",
       "    .dataframe tbody tr th {\n",
       "        vertical-align: top;\n",
       "    }\n",
       "\n",
       "    .dataframe thead th {\n",
       "        text-align: right;\n",
       "    }\n",
       "</style>\n",
       "<table border=\"1\" class=\"dataframe\">\n",
       "  <thead>\n",
       "    <tr style=\"text-align: right;\">\n",
       "      <th></th>\n",
       "      <th>Year</th>\n",
       "      <th>NO2 Mean</th>\n",
       "      <th>O3 Mean</th>\n",
       "      <th>SO2 Mean</th>\n",
       "      <th>CO Mean</th>\n",
       "      <th>Year Average</th>\n",
       "    </tr>\n",
       "  </thead>\n",
       "  <tbody>\n",
       "    <tr>\n",
       "      <th>0</th>\n",
       "      <td>2000</td>\n",
       "      <td>0.017433</td>\n",
       "      <td>0.024376</td>\n",
       "      <td>0.003649</td>\n",
       "      <td>0.557789</td>\n",
       "      <td>0.150812</td>\n",
       "    </tr>\n",
       "    <tr>\n",
       "      <th>1</th>\n",
       "      <td>2001</td>\n",
       "      <td>0.017600</td>\n",
       "      <td>0.025388</td>\n",
       "      <td>0.003133</td>\n",
       "      <td>0.509119</td>\n",
       "      <td>0.138810</td>\n",
       "    </tr>\n",
       "    <tr>\n",
       "      <th>2</th>\n",
       "      <td>2002</td>\n",
       "      <td>0.016387</td>\n",
       "      <td>0.026818</td>\n",
       "      <td>0.002744</td>\n",
       "      <td>0.500990</td>\n",
       "      <td>0.136735</td>\n",
       "    </tr>\n",
       "    <tr>\n",
       "      <th>3</th>\n",
       "      <td>2003</td>\n",
       "      <td>0.015865</td>\n",
       "      <td>0.025521</td>\n",
       "      <td>0.002865</td>\n",
       "      <td>0.492720</td>\n",
       "      <td>0.134243</td>\n",
       "    </tr>\n",
       "    <tr>\n",
       "      <th>4</th>\n",
       "      <td>2004</td>\n",
       "      <td>0.014968</td>\n",
       "      <td>0.024914</td>\n",
       "      <td>0.002855</td>\n",
       "      <td>0.448132</td>\n",
       "      <td>0.122717</td>\n",
       "    </tr>\n",
       "  </tbody>\n",
       "</table>\n",
       "</div>"
      ],
      "text/plain": [
       "   Year  NO2 Mean   O3 Mean  SO2 Mean   CO Mean  Year Average\n",
       "0  2000  0.017433  0.024376  0.003649  0.557789      0.150812\n",
       "1  2001  0.017600  0.025388  0.003133  0.509119      0.138810\n",
       "2  2002  0.016387  0.026818  0.002744  0.500990      0.136735\n",
       "3  2003  0.015865  0.025521  0.002865  0.492720      0.134243\n",
       "4  2004  0.014968  0.024914  0.002855  0.448132      0.122717"
      ]
     },
     "execution_count": 2,
     "metadata": {},
     "output_type": "execute_result"
    }
   ],
   "source": [
    "#regroup by year\n",
    "Chem_by_Year.head(5)"
   ]
  },
  {
   "cell_type": "code",
   "execution_count": null,
   "metadata": {},
   "outputs": [],
   "source": []
  },
  {
   "cell_type": "code",
   "execution_count": null,
   "metadata": {},
   "outputs": [],
   "source": []
  },
  {
   "cell_type": "code",
   "execution_count": null,
   "metadata": {},
   "outputs": [],
   "source": []
  },
  {
   "cell_type": "code",
   "execution_count": null,
   "metadata": {},
   "outputs": [],
   "source": []
  },
  {
   "cell_type": "code",
   "execution_count": null,
   "metadata": {},
   "outputs": [],
   "source": []
  },
  {
   "cell_type": "code",
   "execution_count": null,
   "metadata": {},
   "outputs": [],
   "source": []
  },
  {
   "cell_type": "code",
   "execution_count": 3,
   "metadata": {},
   "outputs": [
    {
     "data": {
      "text/html": [
       "<div>\n",
       "<style scoped>\n",
       "    .dataframe tbody tr th:only-of-type {\n",
       "        vertical-align: middle;\n",
       "    }\n",
       "\n",
       "    .dataframe tbody tr th {\n",
       "        vertical-align: top;\n",
       "    }\n",
       "\n",
       "    .dataframe thead th {\n",
       "        text-align: right;\n",
       "    }\n",
       "</style>\n",
       "<table border=\"1\" class=\"dataframe\">\n",
       "  <thead>\n",
       "    <tr style=\"text-align: right;\">\n",
       "      <th></th>\n",
       "      <th>Country</th>\n",
       "      <th>Variable</th>\n",
       "      <th>Year</th>\n",
       "      <th>Unit</th>\n",
       "      <th>Value</th>\n",
       "    </tr>\n",
       "  </thead>\n",
       "  <tbody>\n",
       "    <tr>\n",
       "      <th>0</th>\n",
       "      <td>United States</td>\n",
       "      <td>Mortality from exposure to outdoor PM2.5</td>\n",
       "      <td>1990</td>\n",
       "      <td>Per 1 000 000 inhabitants</td>\n",
       "      <td>372.6680</td>\n",
       "    </tr>\n",
       "    <tr>\n",
       "      <th>1</th>\n",
       "      <td>United States</td>\n",
       "      <td>Mortality from exposure to outdoor PM2.5</td>\n",
       "      <td>1991</td>\n",
       "      <td>Per 1 000 000 inhabitants</td>\n",
       "      <td>371.3994</td>\n",
       "    </tr>\n",
       "    <tr>\n",
       "      <th>2</th>\n",
       "      <td>United States</td>\n",
       "      <td>Mortality from exposure to outdoor PM2.5</td>\n",
       "      <td>1992</td>\n",
       "      <td>Per 1 000 000 inhabitants</td>\n",
       "      <td>367.1144</td>\n",
       "    </tr>\n",
       "    <tr>\n",
       "      <th>3</th>\n",
       "      <td>United States</td>\n",
       "      <td>Mortality from exposure to outdoor PM2.5</td>\n",
       "      <td>1993</td>\n",
       "      <td>Per 1 000 000 inhabitants</td>\n",
       "      <td>375.3801</td>\n",
       "    </tr>\n",
       "    <tr>\n",
       "      <th>4</th>\n",
       "      <td>United States</td>\n",
       "      <td>Mortality from exposure to outdoor PM2.5</td>\n",
       "      <td>1994</td>\n",
       "      <td>Per 1 000 000 inhabitants</td>\n",
       "      <td>373.4384</td>\n",
       "    </tr>\n",
       "  </tbody>\n",
       "</table>\n",
       "</div>"
      ],
      "text/plain": [
       "         Country                                  Variable  Year  \\\n",
       "0  United States  Mortality from exposure to outdoor PM2.5  1990   \n",
       "1  United States  Mortality from exposure to outdoor PM2.5  1991   \n",
       "2  United States  Mortality from exposure to outdoor PM2.5  1992   \n",
       "3  United States  Mortality from exposure to outdoor PM2.5  1993   \n",
       "4  United States  Mortality from exposure to outdoor PM2.5  1994   \n",
       "\n",
       "                        Unit     Value  \n",
       "0  Per 1 000 000 inhabitants  372.6680  \n",
       "1  Per 1 000 000 inhabitants  371.3994  \n",
       "2  Per 1 000 000 inhabitants  367.1144  \n",
       "3  Per 1 000 000 inhabitants  375.3801  \n",
       "4  Per 1 000 000 inhabitants  373.4384  "
      ]
     },
     "execution_count": 3,
     "metadata": {},
     "output_type": "execute_result"
    }
   ],
   "source": [
    "US_PM25_Mort_data.head()"
   ]
  },
  {
   "cell_type": "code",
   "execution_count": null,
   "metadata": {},
   "outputs": [],
   "source": []
  },
  {
   "cell_type": "code",
   "execution_count": null,
   "metadata": {},
   "outputs": [],
   "source": []
  },
  {
   "cell_type": "code",
   "execution_count": null,
   "metadata": {},
   "outputs": [],
   "source": []
  },
  {
   "cell_type": "code",
   "execution_count": null,
   "metadata": {},
   "outputs": [],
   "source": []
  },
  {
   "cell_type": "code",
   "execution_count": null,
   "metadata": {},
   "outputs": [],
   "source": []
  },
  {
   "cell_type": "code",
   "execution_count": 4,
   "metadata": {},
   "outputs": [],
   "source": [
    "merge_table = pd.merge(Chem_by_Year, US_PM25_Mort_data, on=\"Year\")\n"
   ]
  },
  {
   "cell_type": "code",
   "execution_count": 5,
   "metadata": {},
   "outputs": [
    {
     "data": {
      "text/html": [
       "<div>\n",
       "<style scoped>\n",
       "    .dataframe tbody tr th:only-of-type {\n",
       "        vertical-align: middle;\n",
       "    }\n",
       "\n",
       "    .dataframe tbody tr th {\n",
       "        vertical-align: top;\n",
       "    }\n",
       "\n",
       "    .dataframe thead th {\n",
       "        text-align: right;\n",
       "    }\n",
       "</style>\n",
       "<table border=\"1\" class=\"dataframe\">\n",
       "  <thead>\n",
       "    <tr style=\"text-align: right;\">\n",
       "      <th></th>\n",
       "      <th>Year</th>\n",
       "      <th>NO2 Mean</th>\n",
       "      <th>O3 Mean</th>\n",
       "      <th>SO2 Mean</th>\n",
       "      <th>CO Mean</th>\n",
       "      <th>Year Average</th>\n",
       "      <th>Country</th>\n",
       "      <th>Variable</th>\n",
       "      <th>Unit</th>\n",
       "      <th>Value</th>\n",
       "    </tr>\n",
       "  </thead>\n",
       "  <tbody>\n",
       "    <tr>\n",
       "      <th>0</th>\n",
       "      <td>2000</td>\n",
       "      <td>0.017433</td>\n",
       "      <td>0.024376</td>\n",
       "      <td>0.003649</td>\n",
       "      <td>0.557789</td>\n",
       "      <td>0.150812</td>\n",
       "      <td>United States</td>\n",
       "      <td>Mortality from exposure to outdoor PM2.5</td>\n",
       "      <td>Per 1 000 000 inhabitants</td>\n",
       "      <td>362.2790</td>\n",
       "    </tr>\n",
       "    <tr>\n",
       "      <th>1</th>\n",
       "      <td>2001</td>\n",
       "      <td>0.017600</td>\n",
       "      <td>0.025388</td>\n",
       "      <td>0.003133</td>\n",
       "      <td>0.509119</td>\n",
       "      <td>0.138810</td>\n",
       "      <td>United States</td>\n",
       "      <td>Mortality from exposure to outdoor PM2.5</td>\n",
       "      <td>Per 1 000 000 inhabitants</td>\n",
       "      <td>361.3241</td>\n",
       "    </tr>\n",
       "    <tr>\n",
       "      <th>2</th>\n",
       "      <td>2002</td>\n",
       "      <td>0.016387</td>\n",
       "      <td>0.026818</td>\n",
       "      <td>0.002744</td>\n",
       "      <td>0.500990</td>\n",
       "      <td>0.136735</td>\n",
       "      <td>United States</td>\n",
       "      <td>Mortality from exposure to outdoor PM2.5</td>\n",
       "      <td>Per 1 000 000 inhabitants</td>\n",
       "      <td>359.6222</td>\n",
       "    </tr>\n",
       "    <tr>\n",
       "      <th>3</th>\n",
       "      <td>2003</td>\n",
       "      <td>0.015865</td>\n",
       "      <td>0.025521</td>\n",
       "      <td>0.002865</td>\n",
       "      <td>0.492720</td>\n",
       "      <td>0.134243</td>\n",
       "      <td>United States</td>\n",
       "      <td>Mortality from exposure to outdoor PM2.5</td>\n",
       "      <td>Per 1 000 000 inhabitants</td>\n",
       "      <td>355.1779</td>\n",
       "    </tr>\n",
       "    <tr>\n",
       "      <th>4</th>\n",
       "      <td>2004</td>\n",
       "      <td>0.014968</td>\n",
       "      <td>0.024914</td>\n",
       "      <td>0.002855</td>\n",
       "      <td>0.448132</td>\n",
       "      <td>0.122717</td>\n",
       "      <td>United States</td>\n",
       "      <td>Mortality from exposure to outdoor PM2.5</td>\n",
       "      <td>Per 1 000 000 inhabitants</td>\n",
       "      <td>342.3452</td>\n",
       "    </tr>\n",
       "  </tbody>\n",
       "</table>\n",
       "</div>"
      ],
      "text/plain": [
       "   Year  NO2 Mean   O3 Mean  SO2 Mean   CO Mean  Year Average        Country  \\\n",
       "0  2000  0.017433  0.024376  0.003649  0.557789      0.150812  United States   \n",
       "1  2001  0.017600  0.025388  0.003133  0.509119      0.138810  United States   \n",
       "2  2002  0.016387  0.026818  0.002744  0.500990      0.136735  United States   \n",
       "3  2003  0.015865  0.025521  0.002865  0.492720      0.134243  United States   \n",
       "4  2004  0.014968  0.024914  0.002855  0.448132      0.122717  United States   \n",
       "\n",
       "                                   Variable                       Unit  \\\n",
       "0  Mortality from exposure to outdoor PM2.5  Per 1 000 000 inhabitants   \n",
       "1  Mortality from exposure to outdoor PM2.5  Per 1 000 000 inhabitants   \n",
       "2  Mortality from exposure to outdoor PM2.5  Per 1 000 000 inhabitants   \n",
       "3  Mortality from exposure to outdoor PM2.5  Per 1 000 000 inhabitants   \n",
       "4  Mortality from exposure to outdoor PM2.5  Per 1 000 000 inhabitants   \n",
       "\n",
       "      Value  \n",
       "0  362.2790  \n",
       "1  361.3241  \n",
       "2  359.6222  \n",
       "3  355.1779  \n",
       "4  342.3452  "
      ]
     },
     "execution_count": 5,
     "metadata": {},
     "output_type": "execute_result"
    }
   ],
   "source": [
    "merge_table.head()"
   ]
  },
  {
   "cell_type": "code",
   "execution_count": null,
   "metadata": {},
   "outputs": [],
   "source": []
  },
  {
   "cell_type": "code",
   "execution_count": null,
   "metadata": {},
   "outputs": [],
   "source": []
  },
  {
   "cell_type": "code",
   "execution_count": null,
   "metadata": {},
   "outputs": [],
   "source": []
  },
  {
   "cell_type": "code",
   "execution_count": 6,
   "metadata": {},
   "outputs": [
    {
     "data": {
      "image/png": "[encoded data removed]",
      "text/plain": [
       "<Figure size 432x288 with 1 Axes>"
      ]
     },
     "metadata": {
      "needs_background": "light"
     },
     "output_type": "display_data"
    }
   ],
   "source": [
    "plt.plot(merge_table['Year'], merge_table['Year Average'])\n",
    "plt.title(\"Mean Pollutant vs Year\")\n",
    "plt.xlabel(\"Year\")\n",
    "plt.ylabel(\"Year Average\")\n",
    "plt.grid()"
   ]
  },
  {
   "cell_type": "code",
   "execution_count": 7,
   "metadata": {},
   "outputs": [
    {
     "data": {
      "image/png": "[encoded data removed]",
      "text/plain": [
       "<Figure size 432x288 with 1 Axes>"
      ]
     },
     "metadata": {
      "needs_background": "light"
     },
     "output_type": "display_data"
    }
   ],
   "source": [
    "plt.plot(merge_table['Year'], merge_table['Value'])\n",
    "plt.title(\"Avg Mort Count vs Year\")\n",
    "plt.xlabel(\"Year\")\n",
    "plt.ylabel(\"Avg Mort Count\")\n",
    "plt.grid()"
   ]
  },
  {
   "cell_type": "code",
   "execution_count": null,
   "metadata": {},
   "outputs": [],
   "source": []
  },
  {
   "cell_type": "code",
   "execution_count": null,
   "metadata": {},
   "outputs": [],
   "source": []
  },
  {
   "cell_type": "code",
   "execution_count": null,
   "metadata": {},
   "outputs": [],
   "source": []
  }
 ],
 "metadata": {
  "kernelspec": {
   "display_name": "Python 3",
   "language": "python",
   "name": "python3"
  },
  "language_info": {
   "codemirror_mode": {
    "name": "ipython",
    "version": 3
   },
   "file_extension": ".py",
   "mimetype": "text/x-python",
   "name": "python",
   "nbconvert_exporter": "python",
   "pygments_lexer": "ipython3",
   "version": "3.7.0"
  }
 },
 "nbformat": 4,
 "nbformat_minor": 2
}
