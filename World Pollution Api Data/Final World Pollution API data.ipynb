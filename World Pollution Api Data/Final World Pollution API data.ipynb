{
 "cells": [
  {
   "cell_type": "code",
   "execution_count": 1,
   "metadata": {},
   "outputs": [],
   "source": [
    "# Dependencies\n",
    "import json\n",
    "import numpy as np\n",
    "import pandas as pd\n",
    "import requests\n",
    "from pprint import pprint "
   ]
  },
  {
   "cell_type": "code",
   "execution_count": null,
   "metadata": {},
   "outputs": [],
   "source": []
  },
  {
   "cell_type": "code",
   "execution_count": 2,
   "metadata": {},
   "outputs": [],
   "source": [
    "#Get a list of countries with data on the api:\n",
    "Country_list_url = 'https://public.opendatasoft.com/api/records/1.0/search/?dataset=worldwide-pollution&facet=country&facet=filename&refine.country=Argentina&refine.country=Albania&refine.country=Algeria&refine.country=Angola&refine.country=Armenia&refine.country=Australia&refine.country=Austria&refine.country=Azerbaijan&refine.country=Bangladesh&refine.country=Belarus&refine.country=Belgium&refine.country=Belize&refine.country=Benin&refine.country=Bhutan&refine.country=Bolivia&refine.country=Bosnia+and+Herzegovina&refine.country=Botswana&refine.country=Brazil&refine.country=Brunei+Darussalam&refine.country=Bulgaria&refine.country=Burkina+Faso&refine.country=Namibia&refine.country=Myanmar&refine.country=Mozambique&refine.country=Morocco&refine.country=Montenegro&refine.country=Moldova&refine.country=Mongolia&refine.country=Mexico&refine.country=Mauritania&refine.country=Mali&refine.country=Malaysia&refine.country=Malawi&refine.country=Madagascar&refine.country=Afghanistan&refine.country=Cambodia&refine.country=Cameroon&refine.country=Burundi&refine.country=Canada&refine.country=Chile&refine.country=Chad&refine.country=Central+African+Republic&refine.country=China&refine.country=Colombia&refine.country=Costa+Rica&refine.country=C%C3%B4te+d%27Ivoire&refine.country=Croatia&refine.country=Cuba&refine.country=Cyprus&refine.country=Czech+Republic&refine.country=Democratic+Republic+of+the+Congo&refine.country=Denmark&refine.country=Dominican+Republic&refine.country=Ecuador&refine.country=Egypt&refine.country=Macedonia&refine.country=Luxembourg&refine.country=Lithuania&refine.country=Libya&refine.country=Liberia&refine.country=Lesotho&refine.country=Lebanon&refine.country=Latvia&refine.country=Lao+PDR&refine.country=Kyrgyzstan&refine.country=Kuwait&refine.country=Kosovo&refine.country=Kenya&refine.country=Kazakhstan&refine.country=Jordan&refine.country=Japan&refine.country=Jamaica&refine.country=Italy&refine.country=Ireland&refine.country=Iraq&refine.country=Israel&refine.country=Iran&refine.country=Indonesia&refine.country=India&refine.country=Iceland&refine.country=Hungary&refine.country=Honduras&refine.country=Haiti&refine.country=Guyana&refine.country=Guinea-Bissau&refine.country=Guinea&refine.country=Guatemala&refine.country=Greenland&refine.country=Greece&refine.country=Germany&refine.country=Ghana&refine.country=Georgia&refine.country=Gabon&refine.country=France&refine.country=Ethiopia&refine.country=Estonia&refine.country=Finland&refine.country=Eritrea&refine.country=Equatorial+Guinea&refine.country=El+Salvador'\n",
    "country_response = requests.get(Country_list_url).json()\n",
    "countries_list = country_response['parameters']['refine']['country']"
   ]
  },
  {
   "cell_type": "code",
   "execution_count": null,
   "metadata": {},
   "outputs": [],
   "source": []
  },
  {
   "cell_type": "code",
   "execution_count": null,
   "metadata": {},
   "outputs": [],
   "source": []
  },
  {
   "cell_type": "code",
   "execution_count": null,
   "metadata": {},
   "outputs": [],
   "source": [
    "#loop:\n",
    "rows = []\n",
    "for country in countries_list:\n",
    "    hits_url = 'https://public.opendatasoft.com/api/records/1.0/search/?dataset=worldwide-pollution&facet=country&facet=filename&refine.country={}'.format(country)\n",
    "    hits_response = requests.get(hits_url).json()\n",
    "    num_hits = hits_response['nhits']\n",
    "    url = \"https://public.opendatasoft.com/api/records/1.0/search/?dataset=worldwide-pollution&rows={}&facet=country&facet=filename&refine.country={}\".format(num_hits, country)\n",
    "    response = requests.get(url).json()\n",
    "#Run a for loop on the list produced by response['records']\n",
    "#Note each element of the list is a dictionary of records for a spectic city (i.e filename)\n",
    "    try:\n",
    "        for x in range(len(response['records'])):\n",
    "            try:\n",
    "                city = response['records'][x]['fields']['filename']\n",
    "            except KeyError:\n",
    "                city = ''\n",
    "            country = response['records'][x]['fields']['country']\n",
    "            data_str = response['records'][x]['fields']['data']\n",
    "            country_city_data = json.loads(data_str)\n",
    "            try:\n",
    "# Reference the pollutants key for the country_data dictionary\n",
    "#The pollutant key produces a dictionary of pollutant 'keys' \n",
    "# with 'values' as dictionaries with relevant information for each pollutant 'key'\n",
    "#Within the dictionary of a specific pollutant key access the 'values' key which is pair with the pollutant value for that key.\n",
    "                poll_CO_val = country_city_data['pollutants']['CO']['aqi']['epa']['values']\n",
    "                poll_O3_val = country_city_data['pollutants']['O3']['aqi']['epa']['values']\n",
    "                poll_NO2_val = country_city_data['pollutants']['NO2']['aqi']['epa']['values']\n",
    "                poll_PM25_val = country_city_data['pollutants']['PM25']['aqi']['epa']['values']\n",
    "                longitude = country_city_data['location']['longitude']\n",
    "                latitude = country_city_data['location']['latitude']\n",
    "            except:\n",
    "                pass\n",
    "            rows.append({'Country': country, 'City': city, 'Value CO': poll_CO_val[0], 'Value O3': poll_O3_val[0],  'Value NO2': poll_NO2_val[0],'Value PM25': poll_PM25_val[0], 'Longitude': longitude, 'Latitude': latitude})\n",
    "    except KeyError:\n",
    "        pass"
   ]
  },
  {
   "cell_type": "code",
   "execution_count": null,
   "metadata": {},
   "outputs": [],
   "source": []
  },
  {
   "cell_type": "code",
   "execution_count": null,
   "metadata": {},
   "outputs": [],
   "source": [
    "World_Pollution_df = pd.DataFrame(rows)\n",
    "World_Pollution_df.head()"
   ]
  },
  {
   "cell_type": "code",
   "execution_count": null,
   "metadata": {},
   "outputs": [],
   "source": []
  },
  {
   "cell_type": "code",
   "execution_count": null,
   "metadata": {},
   "outputs": [],
   "source": [
    "World_Pollution_df.to_csv(\"../DataFrames/World_Pollution_df.csv\", header=True)"
   ]
  },
  {
   "cell_type": "code",
   "execution_count": null,
   "metadata": {},
   "outputs": [],
   "source": []
  },
  {
   "cell_type": "code",
   "execution_count": null,
   "metadata": {},
   "outputs": [],
   "source": []
  },
  {
   "cell_type": "code",
   "execution_count": null,
   "metadata": {},
   "outputs": [],
   "source": []
  }
 ],
 "metadata": {
  "kernelspec": {
   "display_name": "Python 3",
   "language": "python",
   "name": "python3"
  },
  "language_info": {
   "codemirror_mode": {
    "name": "ipython",
    "version": 3
   },
   "file_extension": ".py",
   "mimetype": "text/x-python",
   "name": "python",
   "nbconvert_exporter": "python",
   "pygments_lexer": "ipython3",
   "version": "3.7.0"
  }
 },
 "nbformat": 4,
 "nbformat_minor": 2
}
